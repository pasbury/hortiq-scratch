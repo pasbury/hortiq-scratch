{
 "cells": [
  {
   "cell_type": "markdown",
   "id": "exposed-reasoning",
   "metadata": {},
   "source": [
    "# Script to scrape additional info from individual plant page on RHS 'Find a Plant'"
   ]
  },
  {
   "cell_type": "code",
   "execution_count": 350,
   "id": "documented-paradise",
   "metadata": {},
   "outputs": [],
   "source": [
    "import requests\n",
    "from bs4 import BeautifulSoup\n",
    "from selenium import webdriver\n",
    "import time\n",
    "from selenium.webdriver.common.by import By\n",
    "from selenium.webdriver.support.ui import WebDriverWait\n",
    "from selenium.webdriver.support import expected_conditions as EC\n",
    "from selenium.common.exceptions import NoSuchElementException\n",
    "from selenium.webdriver.chrome.options import Options\n",
    "from datetime import date\n",
    "import json\n",
    "import pandas as pd\n",
    "from collections import defaultdict\n",
    "import re"
   ]
  },
  {
   "cell_type": "code",
   "execution_count": 351,
   "id": "danish-mauritius",
   "metadata": {},
   "outputs": [],
   "source": [
    "options = Options()\n",
    "options.headless = True\n",
    "DRIVER_PATH = './chromedriver_win32/chromedriver.exe'"
   ]
  },
  {
   "cell_type": "code",
   "execution_count": 363,
   "id": "conceptual-carry",
   "metadata": {},
   "outputs": [],
   "source": [
    "def main():\n",
    "    \n",
    "    driver = webdriver.Chrome(executable_path=DRIVER_PATH, options=options)\n",
    "    #time.sleep(5)\n",
    "    \n",
    "    # Read input file\n",
    "    infile = 'plants_short.txt'\n",
    "    \n",
    "    # read file\n",
    "    with open(infile, 'r') as infile:\n",
    "        indata=infile.read()\n",
    "\n",
    "    # parse file\n",
    "    plantlist = json.loads(indata)\n",
    "    updatedplantlist = []\n",
    "    n = len(plantlist['data'])\n",
    "    \n",
    "    for i,d in enumerate(plantlist['data']):\n",
    "        driver.get('https://www.rhs.org.uk' + d['detail_page'])\n",
    "            \n",
    "        # Handle model pop-up and beta sign-in\n",
    "        if driver.current_url.find('beta-optin') > 0:\n",
    "            print('Opt-in')\n",
    "            optin_button = WebDriverWait(driver,20).until(EC.element_to_be_clickable((By.XPATH,'//button[@class=\"button button--ghost button--small button--w-100 button--w-auto-sm u-m-y-0\"]/span[@class=\"button__text\"][text()=\"Try the new version\"]')))\n",
    "            if check_exists_by_xpath(driver,'//span[@id=\"popupCloseTH\"]'):\n",
    "                close_button = driver.find_element_by_xpath('//span[@id=\"popupCloseTH\"]')\n",
    "                if close_button.is_displayed():\n",
    "                    close_button.click() \n",
    "            optin_button.click()\n",
    "\n",
    "        print('Processing plant ' + str(i+1) + ' of ' + str(n) + '. URL of webpage is: ' + str(driver.current_url))\n",
    "        time.sleep(3)    \n",
    "        soup = BeautifulSoup(driver.page_source, \"html.parser\")\n",
    "        d.update(get_plant_details(soup))\n",
    "        updatedplantlist.append(d)\n",
    "            \n",
    "    dfplants = pd.DataFrame(updatedplantlist)        \n",
    "    dfplants.to_json(path_or_buf='testaddcols.txt',orient='table',index=False)\n",
    "        \n",
    "    driver.quit()\n",
    "    "
   ]
  },
  {
   "cell_type": "code",
   "execution_count": 364,
   "id": "critical-samuel",
   "metadata": {},
   "outputs": [],
   "source": [
    "def check_exists_by_xpath(driver, xpath):\n",
    "    try:\n",
    "        driver.find_element_by_xpath(xpath)\n",
    "    except NoSuchElementException:\n",
    "        return False\n",
    "    return True"
   ]
  },
  {
   "cell_type": "code",
   "execution_count": 365,
   "id": "minimal-student",
   "metadata": {},
   "outputs": [],
   "source": [
    "def find_size(soup, string):\n",
    "    result = soup.find(string=string)\n",
    "    if result is None:\n",
    "        return ''\n",
    "    else:\n",
    "        return result.parent.parent.text.split(string)[1].rstrip().lstrip()"
   ]
  },
  {
   "cell_type": "code",
   "execution_count": 366,
   "id": "proved-reference",
   "metadata": {},
   "outputs": [],
   "source": [
    "def get_plant_details(soup):#detail_page):\n",
    "# Get additional details for individual plant\n",
    "\n",
    "    plantinfo = {}\n",
    "    today = date.today().strftime(\"%d-%b-%Y\")\n",
    "    \n",
    "    plantinfo[\"details_query_date\"] = today \n",
    "    plantinfo[\"ultimate_height\"] = find_size(soup=soup, string=\"Ultimate height\")\n",
    "    plantinfo[\"time_to_ultimate_height\"] = find_size(soup=soup, string=\"Time to ultimate height\")\n",
    "    plantinfo[\"ultimate_spread\"] = find_size(soup=soup, string=\"Ultimate spread\")\n",
    "\n",
    "    position_dict = {'Full sun':0, 'Full shade':0, 'Partial shade':0}\n",
    "    for k in position_dict:\n",
    "        result = soup.find(string=k)\n",
    "        if result is None:\n",
    "            position_dict[k] = 0\n",
    "        else:\n",
    "            position_dict[k] = 1\n",
    "    plantinfo[\"sunlight_full_sun\"] = position_dict['Full sun']\n",
    "    plantinfo[\"sunlight_full_shade\"] = position_dict['Full shade']\n",
    "    plantinfo[\"sunlight_partial_shade\"] = position_dict['Partial shade']\n",
    "\n",
    "    h = soup.find(\"span\", string = re.compile(\"^H[0-9]$\"))\n",
    "    if h is not None:\n",
    "        plantinfo[\"rhs_hardiness_rating\"] = h.string\n",
    "    else:\n",
    "        plantinfo[\"rhs_hardiness_rating\"] = ''\n",
    "\n",
    "    f = soup.find(\"dt\", string=\"Foliage\")\n",
    "    if f is not None:\n",
    "        plantinfo[\"foliage\"] = f.parent.contents[1].contents[0].text\n",
    "    else:\n",
    "        plantinfo[\"foliage\"] = ''\n",
    "\n",
    "    l = soup.find_all(\"span\", {\"class\": \"ng-star-inserted\"})\n",
    "\n",
    "    plantinfo[\"moisture_moist_but_well_drained\"] = 0\n",
    "    plantinfo[\"moisture_well_drained\"] = 0\n",
    "    plantinfo[\"moisture_poorly_drained\"] = 0\n",
    "\n",
    "    for i in l:\n",
    "        s = i.string\n",
    "        if s is not None:\n",
    "            if re.sub(\"[^a-zA-Z]+\", \"\", s) == \"Moistbutwelldrained\":\n",
    "                plantinfo[\"moisture_moist_but_well_drained\"] = 1\n",
    "            if re.sub(\"[^a-zA-Z]+\", \"\", s) == \"Welldrained\":\n",
    "                plantinfo[\"moisture_well_drained\"] = 1\n",
    "            if re.sub(\"[^a-zA-Z]+\", \"\", s) == \"Poorlydrained\":\n",
    "                plantinfo[\"moisture_poorly_drained\"] = 1\n",
    "\n",
    "    plantinfo[\"acidity_acid\"] = 0\n",
    "    plantinfo[\"acidity_neutral\"] = 0\n",
    "    plantinfo[\"acidity_alkaline\"] = 0\n",
    "\n",
    "    for i in l:\n",
    "        s = i.string\n",
    "        if s is not None:\n",
    "            if re.sub(\"[^a-zA-Z]+\", \"\", s) == \"Acid\":\n",
    "                plantinfo[\"acidity_acid\"] = 1\n",
    "            if re.sub(\"[^a-zA-Z]+\", \"\", s) == \"Neutral\":\n",
    "                plantinfo[\"acidity_neutral\"] = 1\n",
    "            if re.sub(\"[^a-zA-Z]+\", \"\", s) == \"Alkaline\":\n",
    "                plantinfo[\"acidity_alkaline\"] = 1\n",
    "\n",
    "    return plantinfo"
   ]
  },
  {
   "cell_type": "code",
   "execution_count": 367,
   "id": "shared-exposure",
   "metadata": {},
   "outputs": [
    {
     "name": "stdout",
     "output_type": "stream",
     "text": [
      "Opt-in\n",
      "Processing plant 1 of 4. URL of webpage is: https://www.rhs.org.uk/plants/96782/camellia-sasanqua-jean-may-/details-beta\n",
      "Processing plant 2 of 4. URL of webpage is: https://www.rhs.org.uk/plants/87195/camellia-times-williamsii-les-jury-/details-beta\n",
      "Processing plant 3 of 4. URL of webpage is: https://www.rhs.org.uk/plants/97484/camellia-times-williamsii-clarrie-fawcett-/details-beta\n",
      "Processing plant 4 of 4. URL of webpage is: https://www.rhs.org.uk/plants/89149/camellia-sasanqua-hugh-evans-/details-beta\n"
     ]
    }
   ],
   "source": [
    "main()"
   ]
  },
  {
   "cell_type": "code",
   "execution_count": null,
   "id": "scenic-blame",
   "metadata": {},
   "outputs": [],
   "source": []
  }
 ],
 "metadata": {
  "kernelspec": {
   "display_name": "Python 3",
   "language": "python",
   "name": "python3"
  },
  "language_info": {
   "codemirror_mode": {
    "name": "ipython",
    "version": 3
   },
   "file_extension": ".py",
   "mimetype": "text/x-python",
   "name": "python",
   "nbconvert_exporter": "python",
   "pygments_lexer": "ipython3",
   "version": "3.6.12"
  }
 },
 "nbformat": 4,
 "nbformat_minor": 5
}
