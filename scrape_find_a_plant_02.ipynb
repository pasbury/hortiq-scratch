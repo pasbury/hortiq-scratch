{
 "cells": [
  {
   "cell_type": "markdown",
   "id": "obvious-magazine",
   "metadata": {},
   "source": [
    "# Script to scrape RHS 'Find a Plant' data"
   ]
  },
  {
   "cell_type": "code",
   "execution_count": 1,
   "id": "prepared-rider",
   "metadata": {},
   "outputs": [],
   "source": [
    "import requests\n",
    "from bs4 import BeautifulSoup\n",
    "from selenium import webdriver\n",
    "import time\n",
    "from selenium.webdriver.common.by import By\n",
    "from selenium.webdriver.support.ui import WebDriverWait\n",
    "from selenium.webdriver.support import expected_conditions as EC\n",
    "from selenium.common.exceptions import NoSuchElementException\n",
    "from selenium.webdriver.chrome.options import Options\n",
    "from datetime import date, datetime\n",
    "import json\n",
    "import pandas as pd"
   ]
  },
  {
   "cell_type": "code",
   "execution_count": 2,
   "id": "advised-sharp",
   "metadata": {},
   "outputs": [],
   "source": [
    "def check_exists_by_xpath(driver, xpath):\n",
    "    try:\n",
    "        driver.find_element_by_xpath(xpath)\n",
    "    except NoSuchElementException:\n",
    "        return False\n",
    "    return True"
   ]
  },
  {
   "cell_type": "code",
   "execution_count": 3,
   "id": "smoking-white",
   "metadata": {},
   "outputs": [],
   "source": [
    "# Query RHS 'Find a Plant'"
   ]
  },
  {
   "cell_type": "code",
   "execution_count": 4,
   "id": "useful-ethiopia",
   "metadata": {},
   "outputs": [],
   "source": [
    "def run_query(driver,query='camellia&isAgm=true'):\n",
    "    \n",
    "    # Run query\n",
    "    driver.get('https://www.rhs.org.uk/plants/search-results-beta?query=' + query)\n",
    "    \n",
    "    # Print results\n",
    "    print('Title of webpage is: ' + str(driver.title))\n",
    "    print('URL of webpage is: ' + str(driver.current_url))\n",
    "    \n",
    "    print('Negotiating beta opt-in and model pop-up')\n",
    "    # Handle model pop-up and beta sign-in\n",
    "    if driver.current_url.find('beta-optin') > 0:\n",
    "        optin_button = WebDriverWait(driver,20).until(EC.element_to_be_clickable((By.XPATH,'//button[@class=\"button button--ghost button--small button--w-100 button--w-auto-sm u-m-y-0\"]/span[@class=\"button__text\"][text()=\"Try the new version\"]')))\n",
    "        if check_exists_by_xpath(driver,'//span[@id=\"popupCloseTH\"]'):\n",
    "            close_button = driver.find_element_by_xpath('//span[@id=\"popupCloseTH\"]')\n",
    "            if close_button.is_displayed():\n",
    "                close_button.click() \n",
    "        optin_button.click()\n",
    "    \n",
    "    # Print results\n",
    "    print('Title of webpage is: ' + str(driver.title))\n",
    "    print('URL of webpage is: ' + str(driver.current_url))\n",
    "    \n",
    "    # Simulate scrolling down to bottom of the page to display all results\n",
    "    print('Starting to scroll through search results')   \n",
    "    time.sleep(2)\n",
    "    scroll_pause_time = 1\n",
    "    screen_height = driver.execute_script(\"return window.screen.height;\")   # get the screen height of the web\n",
    "    i = 1\n",
    "\n",
    "    while True:\n",
    "        # scroll one screen height each time\n",
    "        driver.execute_script(\"window.scrollTo(0, {screen_height}*{i});\".format(screen_height=screen_height, i=i))  \n",
    "        i += 1\n",
    "        time.sleep(scroll_pause_time)\n",
    "        # update scroll height each time after scrolled, as the scroll height can change after we scrolled the page\n",
    "        scroll_height = driver.execute_script(\"return document.body.scrollHeight;\")  \n",
    "        # Break the loop when the height we need to scroll to is larger than the total scroll height\n",
    "        if (screen_height) * i > scroll_height:\n",
    "            break \n",
    "\n",
    "    print('Finished scrolling through search results')\n",
    "    \n",
    "    soup = BeautifulSoup(driver.page_source, \"html.parser\")\n",
    "    \n",
    "    return soup.find(\"ul\", {\"class\": \"gl-view js-gl-view\"})\n",
    "    "
   ]
  },
  {
   "cell_type": "code",
   "execution_count": 18,
   "id": "advisory-dietary",
   "metadata": {},
   "outputs": [],
   "source": [
    "# Now extarct the list of plants returned by the search"
   ]
  },
  {
   "cell_type": "code",
   "execution_count": 19,
   "id": "proof-burning",
   "metadata": {},
   "outputs": [],
   "source": [
    "def extract_data(plant_list):\n",
    "    \n",
    "    plant_list = plant_list.find_all(\"app-plants-search-list-item\", {\"class\": \"gl-view__item\"})\n",
    "    print('The length of the list of search results is: ' + str(len(plant_list)))\n",
    "    \n",
    "    today = date.today().strftime(\"%d-%b-%Y\")\n",
    "    \n",
    "    from collections import defaultdict\n",
    "    plants = defaultdict(dict)\n",
    "\n",
    "    for i, p in enumerate(plant_list):\n",
    "        plant_title_elements = p.find(\"div\", {\"class\": \"gl-view__content__item-1\"})\n",
    "        plants[i]['img_src'] = p.find(\"img\", {\"class\": \"gl-view__image\"})['src']\n",
    "        plants[i]['botanical_name'] = plant_title_elements.find(\"h4\", {\"class\": \"gl-view__title u-m-b-0\"}).text\n",
    "        plants[i]['common_name'] = plant_title_elements.find(\"h4\", {\"class\": \"gl-view__title text-normal\"}).text\n",
    "        plants[i]['brief_desc'] = p.find(\"div\", {\"class\": \"gl-view__content__item-2\"}).find(\"p\").text\n",
    "        plants[i]['detail_page'] = p.find(\"a\", {\"class\": \"u-faux-block-link__overlay\"})['href']\n",
    "        plants[i]['rhs_id'] = plants[i]['detail_page'].split('/')[2]\n",
    "        plants[i]['query_date'] = today\n",
    "        supplier_search_elements = p.find(\"div\", {\"class\": \"gl-view__content__item-3\"}).findChildren('a')\n",
    "\n",
    "        if len(supplier_search_elements) == 1:\n",
    "            plants[i]['num_suppliers'] = supplier_search_elements[0].find(\"span\").text.split()[0]\n",
    "            plants[i]['supplier_search'] = supplier_search_elements[0]['href']\n",
    "            plants[i]['rhsplants_url'] = ''\n",
    "            plants[i]['rhsplants_price_gbp'] = ''        \n",
    "\n",
    "        elif len(supplier_search_elements) == 2:\n",
    "            plants[i]['num_suppliers'] = supplier_search_elements[1].find(\"span\").text.split()[0]\n",
    "            plants[i]['supplier_search'] = supplier_search_elements[1]['href']\n",
    "            plants[i]['rhsplants_url'] = supplier_search_elements[0]['href']\n",
    "            plants[i]['rhsplants_price_gbp'] = supplier_search_elements[0].find(\"span\").text.split('£')[1]\n",
    "        else:\n",
    "            plants[i]['num_suppliers'] = '0'\n",
    "            plants[i]['supplier_search'] = ''\n",
    "            plants[i]['rhsplants_url'] = ''\n",
    "            plants[i]['rhsplants_price_gbp'] = ''  \n",
    "    \n",
    "    print('Extracted ' + str(i+1) + ' rows of data from query results')\n",
    "    return plants\n",
    "    "
   ]
  },
  {
   "cell_type": "code",
   "execution_count": null,
   "id": "genuine-excerpt",
   "metadata": {},
   "outputs": [],
   "source": []
  },
  {
   "cell_type": "code",
   "execution_count": null,
   "id": "affiliated-motel",
   "metadata": {},
   "outputs": [],
   "source": [
    "def main():\n",
    "    \n",
    "    # Set selenium options\n",
    "    options = Options()\n",
    "    options.headless = True\n",
    "    DRIVER_PATH = './chromedriver_win32/chromedriver.exe'\n",
    "    driver = webdriver.Chrome(executable_path=DRIVER_PATH, options=options)\n",
    "    \n",
    "    # Run query\n",
    "    results_html = run_query(driver,'camellia&isAgm=true')\n",
    "    \n",
    "    # Parse results and convert to json table\n",
    "    plants = extract_data(results_html)\n",
    "    dfplants = pd.DataFrame.from_dict(plants, orient='index', dtype='str')\n",
    "    outfilename = 'plants_' + datetime.now().strftime(\"%Y%b%d-%H%M%S\") +'.txt'\n",
    "    dfplants.to_json(path_or_buf=outfilename,orient='table',index=False)\n",
    "    \n",
    "    print('Results written to ' + outfilename)\n",
    "    driver.quit()"
   ]
  },
  {
   "cell_type": "code",
   "execution_count": null,
   "id": "saved-removal",
   "metadata": {},
   "outputs": [],
   "source": [
    "main()"
   ]
  }
 ],
 "metadata": {
  "kernelspec": {
   "display_name": "Python 3",
   "language": "python",
   "name": "python3"
  },
  "language_info": {
   "codemirror_mode": {
    "name": "ipython",
    "version": 3
   },
   "file_extension": ".py",
   "mimetype": "text/x-python",
   "name": "python",
   "nbconvert_exporter": "python",
   "pygments_lexer": "ipython3",
   "version": "3.6.12"
  }
 },
 "nbformat": 4,
 "nbformat_minor": 5
}
