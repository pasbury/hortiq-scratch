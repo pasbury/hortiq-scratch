{
 "cells": [
  {
   "cell_type": "markdown",
   "id": "equipped-method",
   "metadata": {},
   "source": [
    "# Script to scrape RHS 'Find a Plant' data"
   ]
  },
  {
   "cell_type": "code",
   "execution_count": 1,
   "id": "median-breach",
   "metadata": {},
   "outputs": [],
   "source": [
    "import requests\n",
    "from bs4 import BeautifulSoup\n",
    "from selenium import webdriver\n",
    "import time\n",
    "from selenium.webdriver.common.by import By\n",
    "from selenium.webdriver.support.ui import WebDriverWait\n",
    "from selenium.webdriver.support import expected_conditions as EC\n",
    "from selenium.common.exceptions import NoSuchElementException\n",
    "from selenium.webdriver.chrome.options import Options\n",
    "from datetime import date\n",
    "import json\n",
    "import pandas as pd"
   ]
  },
  {
   "cell_type": "code",
   "execution_count": 2,
   "id": "filled-synthesis",
   "metadata": {},
   "outputs": [],
   "source": [
    "options = Options()\n",
    "options.headless = True\n",
    "DRIVER_PATH = './chromedriver_win32/chromedriver.exe'\n",
    "driver = webdriver.Chrome(executable_path=DRIVER_PATH, options=options)"
   ]
  },
  {
   "cell_type": "code",
   "execution_count": 3,
   "id": "velvet-analyst",
   "metadata": {},
   "outputs": [],
   "source": [
    "def check_exists_by_xpath(driver, xpath):\n",
    "    try:\n",
    "        driver.find_element_by_xpath(xpath)\n",
    "    except NoSuchElementException:\n",
    "        return False\n",
    "    return True"
   ]
  },
  {
   "cell_type": "code",
   "execution_count": 4,
   "id": "meaningful-study",
   "metadata": {},
   "outputs": [],
   "source": [
    "# Query RHS 'Find a Plant'"
   ]
  },
  {
   "cell_type": "code",
   "execution_count": 5,
   "id": "literary-reputation",
   "metadata": {},
   "outputs": [],
   "source": [
    "def run_query(query='camellia&isAgm=true'):\n",
    "    driver.get('https://www.rhs.org.uk/plants/search-results-beta?query=camellia&isAgm=true')\n",
    "    print('Title of webpage is: ' + str(driver.title))\n",
    "    print('URL of webpage is: ' + str(driver.current_url))\n",
    "    "
   ]
  },
  {
   "cell_type": "code",
   "execution_count": null,
   "id": "executive-lodging",
   "metadata": {},
   "outputs": [],
   "source": []
  },
  {
   "cell_type": "code",
   "execution_count": 6,
   "id": "serial-sugar",
   "metadata": {},
   "outputs": [
    {
     "name": "stdout",
     "output_type": "stream",
     "text": [
      "Title of webpage is: Help, advice & tips from the RHS on all kinds of plants / RHS Gardening\n",
      "URL of webpage is: https://www.rhs.org.uk/plants/beta-optin?return-url=plants%2Fsearch-results-beta&query=camellia&isAgm=true\n"
     ]
    }
   ],
   "source": [
    "driver.get('https://www.rhs.org.uk/plants/search-results-beta?query=camellia&isAgm=true')\n",
    "print('Title of webpage is: ' + str(driver.title))\n",
    "print('URL of webpage is: ' + str(driver.current_url))"
   ]
  },
  {
   "cell_type": "code",
   "execution_count": 7,
   "id": "disabled-percentage",
   "metadata": {},
   "outputs": [],
   "source": [
    "# May need to opt-in to beta"
   ]
  },
  {
   "cell_type": "code",
   "execution_count": 8,
   "id": "academic-trademark",
   "metadata": {},
   "outputs": [
    {
     "name": "stdout",
     "output_type": "stream",
     "text": [
      "Title of webpage is: Help, advice & tips from the RHS on all kinds of plants / RHS Gardening\n",
      "URL of webpage is: https://www.rhs.org.uk/plants/search-results-beta?query=camellia&isAgm=true\n"
     ]
    }
   ],
   "source": [
    "if driver.current_url.find('beta-optin') > 0:\n",
    "    optin_button = WebDriverWait(driver,20).until(EC.element_to_be_clickable((By.XPATH,'//button[@class=\"button button--ghost button--small button--w-100 button--w-auto-sm u-m-y-0\"]/span[@class=\"button__text\"][text()=\"Try the new version\"]')))\n",
    "    # May also need to close popup\n",
    "    if check_exists_by_xpath(driver,'//span[@id=\"popupCloseTH\"]'):\n",
    "        close_button = driver.find_element_by_xpath('//span[@id=\"popupCloseTH\"]')\n",
    "        if close_button.is_displayed():\n",
    "            close_button.click() \n",
    "    # Select to opt-in\n",
    "    optin_button.click()\n",
    "#    optin_button = driver.find_element_by_xpath('//button[@class=\"button button--ghost button--small button--w-100 button--w-auto-sm u-m-y-0\"]/span[@class=\"button__text\"][text()=\"Try the new version\"]')\n",
    "print('Title of webpage is: ' + str(driver.title))\n",
    "print('URL of webpage is: ' + str(driver.current_url))"
   ]
  },
  {
   "cell_type": "code",
   "execution_count": 9,
   "id": "bizarre-teach",
   "metadata": {},
   "outputs": [],
   "source": [
    "# Simulate scrolling down to bottom of the page to display all results"
   ]
  },
  {
   "cell_type": "code",
   "execution_count": 10,
   "id": "expensive-spare",
   "metadata": {},
   "outputs": [],
   "source": [
    "time.sleep(2)\n",
    "scroll_pause_time = 1\n",
    "screen_height = driver.execute_script(\"return window.screen.height;\")   # get the screen height of the web\n",
    "i = 1\n",
    "\n",
    "while True:\n",
    "    # scroll one screen height each time\n",
    "    driver.execute_script(\"window.scrollTo(0, {screen_height}*{i});\".format(screen_height=screen_height, i=i))  \n",
    "    i += 1\n",
    "    time.sleep(scroll_pause_time)\n",
    "    # update scroll height each time after scrolled, as the scroll height can change after we scrolled the page\n",
    "    scroll_height = driver.execute_script(\"return document.body.scrollHeight;\")  \n",
    "    # Break the loop when the height we need to scroll to is larger than the total scroll height\n",
    "    if (screen_height) * i > scroll_height:\n",
    "        break "
   ]
  },
  {
   "cell_type": "code",
   "execution_count": 11,
   "id": "educational-arrival",
   "metadata": {},
   "outputs": [],
   "source": [
    "# Now extarct the list of plants returned by the search"
   ]
  },
  {
   "cell_type": "code",
   "execution_count": 12,
   "id": "generic-arkansas",
   "metadata": {},
   "outputs": [],
   "source": [
    "soup = BeautifulSoup(driver.page_source, \"html.parser\")"
   ]
  },
  {
   "cell_type": "code",
   "execution_count": 13,
   "id": "headed-sword",
   "metadata": {},
   "outputs": [],
   "source": [
    "plant_list = soup.find(\"ul\", {\"class\": \"gl-view js-gl-view\"})"
   ]
  },
  {
   "cell_type": "code",
   "execution_count": 14,
   "id": "judicial-marriage",
   "metadata": {},
   "outputs": [],
   "source": [
    "plant_list = plant_list.find_all(\"app-plants-search-list-item\", {\"class\": \"gl-view__item\"})"
   ]
  },
  {
   "cell_type": "code",
   "execution_count": 15,
   "id": "driving-analyst",
   "metadata": {},
   "outputs": [
    {
     "name": "stdout",
     "output_type": "stream",
     "text": [
      "The length of the list of search results is: 99\n"
     ]
    }
   ],
   "source": [
    "print('The length of the list of search results is: ' + str(len(plant_list)))"
   ]
  },
  {
   "cell_type": "code",
   "execution_count": null,
   "id": "scientific-oxford",
   "metadata": {},
   "outputs": [],
   "source": []
  },
  {
   "cell_type": "code",
   "execution_count": 286,
   "id": "dutch-summit",
   "metadata": {},
   "outputs": [],
   "source": [
    "# Now extract the specific items of information about each plant"
   ]
  },
  {
   "cell_type": "code",
   "execution_count": 23,
   "id": "small-entertainment",
   "metadata": {},
   "outputs": [],
   "source": [
    "from collections import defaultdict"
   ]
  },
  {
   "cell_type": "code",
   "execution_count": 24,
   "id": "informative-mixer",
   "metadata": {},
   "outputs": [],
   "source": [
    "today = date.today().strftime(\"%d-%b-%Y\")"
   ]
  },
  {
   "cell_type": "code",
   "execution_count": 25,
   "id": "absolute-lloyd",
   "metadata": {},
   "outputs": [],
   "source": [
    "plants = defaultdict(dict)\n",
    "today = date.today()\n",
    "for i, p in enumerate(plant_list):\n",
    "    plant_title_elements = p.find(\"div\", {\"class\": \"gl-view__content__item-1\"})\n",
    "    plants[i]['img_src'] = p.find(\"img\", {\"class\": \"gl-view__image\"})['src']\n",
    "    plants[i]['botanical_name'] = plant_title_elements.find(\"h4\", {\"class\": \"gl-view__title u-m-b-0\"}).text\n",
    "    plants[i]['common_name'] = plant_title_elements.find(\"h4\", {\"class\": \"gl-view__title text-normal\"}).text\n",
    "    plants[i]['brief_desc'] = p.find(\"div\", {\"class\": \"gl-view__content__item-2\"}).find(\"p\").text\n",
    "    plants[i]['detail_page'] = p.find(\"a\", {\"class\": \"u-faux-block-link__overlay\"})['href']\n",
    "    plants[i]['rhs_id'] = plants[i]['detail_page'].split('/')[2]\n",
    "    plants[i]['query_date'] = today\n",
    "    if p.find(\"i\", {\"title\":\"AGM plant\"}) is None:\n",
    "        plants[i]['agm_plant'] = 0\n",
    "    else:\n",
    "        plants[i]['agm_plant'] = 1\n",
    "    supplier_search_elements = p.find(\"div\", {\"class\": \"gl-view__content__item-3\"}).findChildren('a')\n",
    "    \n",
    "    if len(supplier_search_elements) == 1:\n",
    "        plants[i]['num_suppliers'] = supplier_search_elements[0].find(\"span\").text.split()[0]\n",
    "        plants[i]['supplier_search'] = supplier_search_elements[0]['href']\n",
    "        plants[i]['rhsplants_url'] = ''\n",
    "        plants[i]['rhsplants_price_gbp'] = ''        \n",
    "        \n",
    "    elif len(supplier_search_elements) == 2:\n",
    "        plants[i]['num_suppliers'] = supplier_search_elements[1].find(\"span\").text.split()[0]\n",
    "        plants[i]['supplier_search'] = supplier_search_elements[1]['href']\n",
    "        plants[i]['rhsplants_url'] = supplier_search_elements[0]['href']\n",
    "        plants[i]['rhsplants_price_gbp'] = supplier_search_elements[0].find(\"span\").text.split('£')[1]\n",
    "    else:\n",
    "        plants[i]['num_suppliers'] = '0'\n",
    "        plants[i]['supplier_search'] = ''\n",
    "        plants[i]['rhsplants_url'] = ''\n",
    "        plants[i]['rhsplants_price_gbp'] = ''        "
   ]
  },
  {
   "cell_type": "code",
   "execution_count": 26,
   "id": "assisted-produce",
   "metadata": {},
   "outputs": [],
   "source": [
    "dfplants = pd.DataFrame.from_dict(plants, orient='index', dtype='str')"
   ]
  },
  {
   "cell_type": "code",
   "execution_count": 291,
   "id": "neither-chuck",
   "metadata": {},
   "outputs": [],
   "source": [
    "dfplants.to_json(path_or_buf='plants.json',orient='table',index=False)"
   ]
  },
  {
   "cell_type": "code",
   "execution_count": 292,
   "id": "pressing-blink",
   "metadata": {},
   "outputs": [],
   "source": [
    "# example of how to read json back to pandas\n",
    "# text_read = pd.read_json('plants.json',orient='table')\n",
    "# text_read"
   ]
  },
  {
   "cell_type": "code",
   "execution_count": 293,
   "id": "canadian-little",
   "metadata": {},
   "outputs": [],
   "source": [
    "driver.quit()"
   ]
  },
  {
   "cell_type": "code",
   "execution_count": null,
   "id": "beneficial-profile",
   "metadata": {},
   "outputs": [],
   "source": []
  },
  {
   "cell_type": "code",
   "execution_count": 27,
   "id": "focal-corps",
   "metadata": {},
   "outputs": [
    {
     "data": {
      "text/html": [
       "<div>\n",
       "<style scoped>\n",
       "    .dataframe tbody tr th:only-of-type {\n",
       "        vertical-align: middle;\n",
       "    }\n",
       "\n",
       "    .dataframe tbody tr th {\n",
       "        vertical-align: top;\n",
       "    }\n",
       "\n",
       "    .dataframe thead th {\n",
       "        text-align: right;\n",
       "    }\n",
       "</style>\n",
       "<table border=\"1\" class=\"dataframe\">\n",
       "  <thead>\n",
       "    <tr style=\"text-align: right;\">\n",
       "      <th></th>\n",
       "      <th>img_src</th>\n",
       "      <th>botanical_name</th>\n",
       "      <th>common_name</th>\n",
       "      <th>brief_desc</th>\n",
       "      <th>detail_page</th>\n",
       "      <th>rhs_id</th>\n",
       "      <th>query_date</th>\n",
       "      <th>agm_plant</th>\n",
       "      <th>num_suppliers</th>\n",
       "      <th>supplier_search</th>\n",
       "      <th>rhsplants_url</th>\n",
       "      <th>rhsplants_price_gbp</th>\n",
       "    </tr>\n",
       "  </thead>\n",
       "  <tbody>\n",
       "    <tr>\n",
       "      <th>0</th>\n",
       "      <td>https://apps.rhs.org.uk/plantselectorimages/de...</td>\n",
       "      <td>Camellia sasanqua 'Jean May'</td>\n",
       "      <td>camellia 'Jean May'</td>\n",
       "      <td>'Jean May' is a compact, bushy evergreen shrub...</td>\n",
       "      <td>/plants/96782/camellia-sasanqua-jean-may-/deta...</td>\n",
       "      <td>96782</td>\n",
       "      <td>2021-03-16</td>\n",
       "      <td>1</td>\n",
       "      <td>4</td>\n",
       "      <td>/plants/nurseries-search-result?query=96782</td>\n",
       "      <td></td>\n",
       "      <td></td>\n",
       "    </tr>\n",
       "    <tr>\n",
       "      <th>1</th>\n",
       "      <td>https://apps.rhs.org.uk/plantselectorimages/de...</td>\n",
       "      <td>Camellia × williamsii 'Les Jury'</td>\n",
       "      <td>camellia 'Les Jury'</td>\n",
       "      <td>'Les Jury' is a bushy evergreen shrub with dar...</td>\n",
       "      <td>/plants/87195/camellia-times-williamsii-les-ju...</td>\n",
       "      <td>87195</td>\n",
       "      <td>2021-03-16</td>\n",
       "      <td>1</td>\n",
       "      <td>16</td>\n",
       "      <td>/plants/nurseries-search-result?query=87195</td>\n",
       "      <td></td>\n",
       "      <td></td>\n",
       "    </tr>\n",
       "    <tr>\n",
       "      <th>2</th>\n",
       "      <td>https://apps.rhs.org.uk/plantselectorimages/de...</td>\n",
       "      <td>Camellia × williamsii 'Clarrie Fawcett'</td>\n",
       "      <td>camellia 'Clarrie Fawcett'</td>\n",
       "      <td>'Clarrie Fawcett' is an evergreen, upright shr...</td>\n",
       "      <td>/plants/97484/camellia-times-williamsii-clarri...</td>\n",
       "      <td>97484</td>\n",
       "      <td>2021-03-16</td>\n",
       "      <td>1</td>\n",
       "      <td>0</td>\n",
       "      <td></td>\n",
       "      <td></td>\n",
       "      <td></td>\n",
       "    </tr>\n",
       "    <tr>\n",
       "      <th>3</th>\n",
       "      <td>https://apps.rhs.org.uk/plantselectorimages/de...</td>\n",
       "      <td>Camellia sasanqua 'Hugh Evans'</td>\n",
       "      <td>camellia 'Hugh Evans'</td>\n",
       "      <td>'Hugh Evans' is a vigorous evergreen shrub wit...</td>\n",
       "      <td>/plants/89149/camellia-sasanqua-hugh-evans-/de...</td>\n",
       "      <td>89149</td>\n",
       "      <td>2021-03-16</td>\n",
       "      <td>1</td>\n",
       "      <td>12</td>\n",
       "      <td>/plants/nurseries-search-result?query=89149</td>\n",
       "      <td></td>\n",
       "      <td></td>\n",
       "    </tr>\n",
       "    <tr>\n",
       "      <th>4</th>\n",
       "      <td>https://apps.rhs.org.uk/plantselectorimages/de...</td>\n",
       "      <td>Camellia japonica 'Mercury'</td>\n",
       "      <td>camellia 'Mercury'</td>\n",
       "      <td>'Mercury' is a compact medium-sized shrub with...</td>\n",
       "      <td>/plants/93448/camellia-japonica-mercury-/detai...</td>\n",
       "      <td>93448</td>\n",
       "      <td>2021-03-16</td>\n",
       "      <td>1</td>\n",
       "      <td>1</td>\n",
       "      <td>/plants/nurseries-search-result?query=93448</td>\n",
       "      <td></td>\n",
       "      <td></td>\n",
       "    </tr>\n",
       "    <tr>\n",
       "      <th>...</th>\n",
       "      <td>...</td>\n",
       "      <td>...</td>\n",
       "      <td>...</td>\n",
       "      <td>...</td>\n",
       "      <td>...</td>\n",
       "      <td>...</td>\n",
       "      <td>...</td>\n",
       "      <td>...</td>\n",
       "      <td>...</td>\n",
       "      <td>...</td>\n",
       "      <td>...</td>\n",
       "      <td>...</td>\n",
       "    </tr>\n",
       "    <tr>\n",
       "      <th>94</th>\n",
       "      <td></td>\n",
       "      <td>Camellia japonica 'Fire Falls'</td>\n",
       "      <td>camellia 'Fire Falls'</td>\n",
       "      <td></td>\n",
       "      <td>/plants/52912/camellia-japonica-fire-falls-/de...</td>\n",
       "      <td>52912</td>\n",
       "      <td>2021-03-16</td>\n",
       "      <td>1</td>\n",
       "      <td>0</td>\n",
       "      <td></td>\n",
       "      <td></td>\n",
       "      <td></td>\n",
       "    </tr>\n",
       "    <tr>\n",
       "      <th>95</th>\n",
       "      <td></td>\n",
       "      <td>Camellia japonica 'Deep Secret'</td>\n",
       "      <td>camellia 'Deep Secret'</td>\n",
       "      <td></td>\n",
       "      <td>/plants/85378/camellia-japonica-deep-secret-/d...</td>\n",
       "      <td>85378</td>\n",
       "      <td>2021-03-16</td>\n",
       "      <td>1</td>\n",
       "      <td>0</td>\n",
       "      <td></td>\n",
       "      <td></td>\n",
       "      <td></td>\n",
       "    </tr>\n",
       "    <tr>\n",
       "      <th>96</th>\n",
       "      <td></td>\n",
       "      <td>Camellia japonica 'Tom Thumb'</td>\n",
       "      <td>camellia 'Tom Thumb'</td>\n",
       "      <td></td>\n",
       "      <td>/plants/62619/camellia-japonica-tom-thumb-/det...</td>\n",
       "      <td>62619</td>\n",
       "      <td>2021-03-16</td>\n",
       "      <td>1</td>\n",
       "      <td>4</td>\n",
       "      <td>/plants/nurseries-search-result?query=62619</td>\n",
       "      <td></td>\n",
       "      <td></td>\n",
       "    </tr>\n",
       "    <tr>\n",
       "      <th>97</th>\n",
       "      <td></td>\n",
       "      <td>Camellia × williamsii 'Mary Phoebe Taylor'</td>\n",
       "      <td>camellia 'Mary Phoebe Taylor'</td>\n",
       "      <td></td>\n",
       "      <td>/plants/47666/camellia-times-williamsii-mary-p...</td>\n",
       "      <td>47666</td>\n",
       "      <td>2021-03-16</td>\n",
       "      <td>1</td>\n",
       "      <td>4</td>\n",
       "      <td>/plants/nurseries-search-result?query=47666</td>\n",
       "      <td></td>\n",
       "      <td></td>\n",
       "    </tr>\n",
       "    <tr>\n",
       "      <th>98</th>\n",
       "      <td></td>\n",
       "      <td>Camellia 'Extravaganza' (japonica hybrid)</td>\n",
       "      <td>camellia 'Extravaganza'</td>\n",
       "      <td></td>\n",
       "      <td>/plants/78428/camellia-extravaganza-(japonica-...</td>\n",
       "      <td>78428</td>\n",
       "      <td>2021-03-16</td>\n",
       "      <td>1</td>\n",
       "      <td>4</td>\n",
       "      <td>/plants/nurseries-search-result?query=78428</td>\n",
       "      <td></td>\n",
       "      <td></td>\n",
       "    </tr>\n",
       "  </tbody>\n",
       "</table>\n",
       "<p>99 rows × 12 columns</p>\n",
       "</div>"
      ],
      "text/plain": [
       "                                              img_src  \\\n",
       "0   https://apps.rhs.org.uk/plantselectorimages/de...   \n",
       "1   https://apps.rhs.org.uk/plantselectorimages/de...   \n",
       "2   https://apps.rhs.org.uk/plantselectorimages/de...   \n",
       "3   https://apps.rhs.org.uk/plantselectorimages/de...   \n",
       "4   https://apps.rhs.org.uk/plantselectorimages/de...   \n",
       "..                                                ...   \n",
       "94                                                      \n",
       "95                                                      \n",
       "96                                                      \n",
       "97                                                      \n",
       "98                                                      \n",
       "\n",
       "                                botanical_name                    common_name  \\\n",
       "0                 Camellia sasanqua 'Jean May'            camellia 'Jean May'   \n",
       "1             Camellia × williamsii 'Les Jury'            camellia 'Les Jury'   \n",
       "2      Camellia × williamsii 'Clarrie Fawcett'     camellia 'Clarrie Fawcett'   \n",
       "3               Camellia sasanqua 'Hugh Evans'          camellia 'Hugh Evans'   \n",
       "4                  Camellia japonica 'Mercury'             camellia 'Mercury'   \n",
       "..                                         ...                            ...   \n",
       "94              Camellia japonica 'Fire Falls'          camellia 'Fire Falls'   \n",
       "95             Camellia japonica 'Deep Secret'         camellia 'Deep Secret'   \n",
       "96               Camellia japonica 'Tom Thumb'           camellia 'Tom Thumb'   \n",
       "97  Camellia × williamsii 'Mary Phoebe Taylor'  camellia 'Mary Phoebe Taylor'   \n",
       "98   Camellia 'Extravaganza' (japonica hybrid)        camellia 'Extravaganza'   \n",
       "\n",
       "                                           brief_desc  \\\n",
       "0   'Jean May' is a compact, bushy evergreen shrub...   \n",
       "1   'Les Jury' is a bushy evergreen shrub with dar...   \n",
       "2   'Clarrie Fawcett' is an evergreen, upright shr...   \n",
       "3   'Hugh Evans' is a vigorous evergreen shrub wit...   \n",
       "4   'Mercury' is a compact medium-sized shrub with...   \n",
       "..                                                ...   \n",
       "94                                                      \n",
       "95                                                      \n",
       "96                                                      \n",
       "97                                                      \n",
       "98                                                      \n",
       "\n",
       "                                          detail_page rhs_id  query_date  \\\n",
       "0   /plants/96782/camellia-sasanqua-jean-may-/deta...  96782  2021-03-16   \n",
       "1   /plants/87195/camellia-times-williamsii-les-ju...  87195  2021-03-16   \n",
       "2   /plants/97484/camellia-times-williamsii-clarri...  97484  2021-03-16   \n",
       "3   /plants/89149/camellia-sasanqua-hugh-evans-/de...  89149  2021-03-16   \n",
       "4   /plants/93448/camellia-japonica-mercury-/detai...  93448  2021-03-16   \n",
       "..                                                ...    ...         ...   \n",
       "94  /plants/52912/camellia-japonica-fire-falls-/de...  52912  2021-03-16   \n",
       "95  /plants/85378/camellia-japonica-deep-secret-/d...  85378  2021-03-16   \n",
       "96  /plants/62619/camellia-japonica-tom-thumb-/det...  62619  2021-03-16   \n",
       "97  /plants/47666/camellia-times-williamsii-mary-p...  47666  2021-03-16   \n",
       "98  /plants/78428/camellia-extravaganza-(japonica-...  78428  2021-03-16   \n",
       "\n",
       "   agm_plant num_suppliers                              supplier_search  \\\n",
       "0          1             4  /plants/nurseries-search-result?query=96782   \n",
       "1          1            16  /plants/nurseries-search-result?query=87195   \n",
       "2          1             0                                                \n",
       "3          1            12  /plants/nurseries-search-result?query=89149   \n",
       "4          1             1  /plants/nurseries-search-result?query=93448   \n",
       "..       ...           ...                                          ...   \n",
       "94         1             0                                                \n",
       "95         1             0                                                \n",
       "96         1             4  /plants/nurseries-search-result?query=62619   \n",
       "97         1             4  /plants/nurseries-search-result?query=47666   \n",
       "98         1             4  /plants/nurseries-search-result?query=78428   \n",
       "\n",
       "   rhsplants_url rhsplants_price_gbp  \n",
       "0                                     \n",
       "1                                     \n",
       "2                                     \n",
       "3                                     \n",
       "4                                     \n",
       "..           ...                 ...  \n",
       "94                                    \n",
       "95                                    \n",
       "96                                    \n",
       "97                                    \n",
       "98                                    \n",
       "\n",
       "[99 rows x 12 columns]"
      ]
     },
     "execution_count": 27,
     "metadata": {},
     "output_type": "execute_result"
    }
   ],
   "source": [
    "dfplants "
   ]
  },
  {
   "cell_type": "code",
   "execution_count": null,
   "id": "alert-function",
   "metadata": {},
   "outputs": [],
   "source": []
  }
 ],
 "metadata": {
  "kernelspec": {
   "display_name": "Python 3",
   "language": "python",
   "name": "python3"
  },
  "language_info": {
   "codemirror_mode": {
    "name": "ipython",
    "version": 3
   },
   "file_extension": ".py",
   "mimetype": "text/x-python",
   "name": "python",
   "nbconvert_exporter": "python",
   "pygments_lexer": "ipython3",
   "version": "3.6.12"
  }
 },
 "nbformat": 4,
 "nbformat_minor": 5
}
