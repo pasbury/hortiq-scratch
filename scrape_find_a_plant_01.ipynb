{
 "cells": [
  {
   "cell_type": "markdown",
   "id": "sunrise-coupon",
   "metadata": {},
   "source": [
    "# Script to scrape RHS 'Find a Plant' data"
   ]
  },
  {
   "cell_type": "code",
   "execution_count": 1,
   "id": "fourth-compression",
   "metadata": {},
   "outputs": [],
   "source": [
    "import requests\n",
    "from bs4 import BeautifulSoup\n",
    "from selenium import webdriver\n",
    "import time\n",
    "from selenium.webdriver.common.by import By\n",
    "from selenium.webdriver.support.ui import WebDriverWait\n",
    "from selenium.webdriver.support import expected_conditions as EC\n",
    "from selenium.common.exceptions import NoSuchElementException\n",
    "from selenium.webdriver.chrome.options import Options\n",
    "from datetime import date\n",
    "import json\n",
    "import pandas as pd"
   ]
  },
  {
   "cell_type": "code",
   "execution_count": 2,
   "id": "engaged-thriller",
   "metadata": {},
   "outputs": [],
   "source": [
    "options = Options()\n",
    "options.headless = True\n",
    "DRIVER_PATH = './chromedriver_win32/chromedriver.exe'\n",
    "driver = webdriver.Chrome(executable_path=DRIVER_PATH, options=options)"
   ]
  },
  {
   "cell_type": "code",
   "execution_count": 3,
   "id": "oriented-graphics",
   "metadata": {},
   "outputs": [],
   "source": [
    "def check_exists_by_xpath(driver, xpath):\n",
    "    try:\n",
    "        driver.find_element_by_xpath(xpath)\n",
    "    except NoSuchElementException:\n",
    "        return False\n",
    "    return True"
   ]
  },
  {
   "cell_type": "code",
   "execution_count": 4,
   "id": "adjustable-fantasy",
   "metadata": {},
   "outputs": [],
   "source": [
    "# Query RHS 'Find a Plant'"
   ]
  },
  {
   "cell_type": "code",
   "execution_count": 5,
   "id": "optical-philip",
   "metadata": {},
   "outputs": [],
   "source": [
    "def run_query(query='camellia&isAgm=true'):\n",
    "    driver.get('https://www.rhs.org.uk/plants/search-results-beta?query=camellia&isAgm=true')\n",
    "    print('Title of webpage is: ' + str(driver.title))\n",
    "    print('URL of webpage is: ' + str(driver.current_url))\n",
    "    "
   ]
  },
  {
   "cell_type": "code",
   "execution_count": null,
   "id": "front-updating",
   "metadata": {},
   "outputs": [],
   "source": []
  },
  {
   "cell_type": "code",
   "execution_count": 6,
   "id": "mathematical-formation",
   "metadata": {},
   "outputs": [
    {
     "name": "stdout",
     "output_type": "stream",
     "text": [
      "Title of webpage is: Help, advice & tips from the RHS on all kinds of plants / RHS Gardening\n",
      "URL of webpage is: https://www.rhs.org.uk/plants/beta-optin?return-url=plants%2Fsearch-results-beta&query=camellia&isAgm=true\n"
     ]
    }
   ],
   "source": [
    "driver.get('https://www.rhs.org.uk/plants/search-results-beta?query=camellia&isAgm=true')\n",
    "print('Title of webpage is: ' + str(driver.title))\n",
    "print('URL of webpage is: ' + str(driver.current_url))"
   ]
  },
  {
   "cell_type": "code",
   "execution_count": 7,
   "id": "individual-snowboard",
   "metadata": {},
   "outputs": [],
   "source": [
    "# May need to opt-in to beta"
   ]
  },
  {
   "cell_type": "code",
   "execution_count": 8,
   "id": "amended-adaptation",
   "metadata": {},
   "outputs": [
    {
     "name": "stdout",
     "output_type": "stream",
     "text": [
      "Title of webpage is: Help, advice & tips from the RHS on all kinds of plants / RHS Gardening\n",
      "URL of webpage is: https://www.rhs.org.uk/plants/search-results-beta?query=camellia&isAgm=true\n"
     ]
    }
   ],
   "source": [
    "if driver.current_url.find('beta-optin') > 0:\n",
    "    optin_button = WebDriverWait(driver,20).until(EC.element_to_be_clickable((By.XPATH,'//button[@class=\"button button--ghost button--small button--w-100 button--w-auto-sm u-m-y-0\"]/span[@class=\"button__text\"][text()=\"Try the new version\"]')))\n",
    "    # May also need to close popup\n",
    "    if check_exists_by_xpath(driver,'//span[@id=\"popupCloseTH\"]'):\n",
    "        close_button = driver.find_element_by_xpath('//span[@id=\"popupCloseTH\"]')\n",
    "        if close_button.is_displayed():\n",
    "            close_button.click() \n",
    "    # Select to opt-in\n",
    "    optin_button.click()\n",
    "#    optin_button = driver.find_element_by_xpath('//button[@class=\"button button--ghost button--small button--w-100 button--w-auto-sm u-m-y-0\"]/span[@class=\"button__text\"][text()=\"Try the new version\"]')\n",
    "print('Title of webpage is: ' + str(driver.title))\n",
    "print('URL of webpage is: ' + str(driver.current_url))"
   ]
  },
  {
   "cell_type": "code",
   "execution_count": 9,
   "id": "classified-discovery",
   "metadata": {},
   "outputs": [],
   "source": [
    "# Simulate scrolling down to bottom of the page to display all results"
   ]
  },
  {
   "cell_type": "code",
   "execution_count": 10,
   "id": "retained-marsh",
   "metadata": {},
   "outputs": [],
   "source": [
    "time.sleep(2)\n",
    "scroll_pause_time = 1\n",
    "screen_height = driver.execute_script(\"return window.screen.height;\")   # get the screen height of the web\n",
    "i = 1\n",
    "\n",
    "while True:\n",
    "    # scroll one screen height each time\n",
    "    driver.execute_script(\"window.scrollTo(0, {screen_height}*{i});\".format(screen_height=screen_height, i=i))  \n",
    "    i += 1\n",
    "    time.sleep(scroll_pause_time)\n",
    "    # update scroll height each time after scrolled, as the scroll height can change after we scrolled the page\n",
    "    scroll_height = driver.execute_script(\"return document.body.scrollHeight;\")  \n",
    "    # Break the loop when the height we need to scroll to is larger than the total scroll height\n",
    "    if (screen_height) * i > scroll_height:\n",
    "        break "
   ]
  },
  {
   "cell_type": "code",
   "execution_count": 11,
   "id": "appreciated-puzzle",
   "metadata": {},
   "outputs": [],
   "source": [
    "# Now extarct the list of plants returned by the search"
   ]
  },
  {
   "cell_type": "code",
   "execution_count": 12,
   "id": "adverse-integer",
   "metadata": {},
   "outputs": [],
   "source": [
    "soup = BeautifulSoup(driver.page_source, \"html.parser\")"
   ]
  },
  {
   "cell_type": "code",
   "execution_count": 13,
   "id": "differential-impossible",
   "metadata": {},
   "outputs": [],
   "source": [
    "plant_list = soup.find(\"ul\", {\"class\": \"gl-view js-gl-view\"})"
   ]
  },
  {
   "cell_type": "code",
   "execution_count": 14,
   "id": "raising-norwegian",
   "metadata": {},
   "outputs": [],
   "source": [
    "plant_list = plant_list.find_all(\"app-plants-search-list-item\", {\"class\": \"gl-view__item\"})"
   ]
  },
  {
   "cell_type": "code",
   "execution_count": 15,
   "id": "available-overhead",
   "metadata": {},
   "outputs": [
    {
     "name": "stdout",
     "output_type": "stream",
     "text": [
      "The length of the list of search results is: 99\n"
     ]
    }
   ],
   "source": [
    "print('The length of the list of search results is: ' + str(len(plant_list)))"
   ]
  },
  {
   "cell_type": "code",
   "execution_count": null,
   "id": "incorrect-stick",
   "metadata": {},
   "outputs": [],
   "source": []
  },
  {
   "cell_type": "code",
   "execution_count": 286,
   "id": "proud-seventh",
   "metadata": {},
   "outputs": [],
   "source": [
    "# Now extract the specific items of information about each plant"
   ]
  },
  {
   "cell_type": "code",
   "execution_count": 23,
   "id": "shared-clone",
   "metadata": {},
   "outputs": [],
   "source": [
    "from collections import defaultdict"
   ]
  },
  {
   "cell_type": "code",
   "execution_count": 24,
   "id": "horizontal-insight",
   "metadata": {},
   "outputs": [],
   "source": [
    "today = date.today().strftime(\"%d-%b-%Y\")"
   ]
  },
  {
   "cell_type": "code",
   "execution_count": 25,
   "id": "alleged-madison",
   "metadata": {},
   "outputs": [],
   "source": [
    "plants = defaultdict(dict)\n",
    "today = date.today()\n",
    "for i, p in enumerate(plant_list):\n",
    "    plant_title_elements = p.find(\"div\", {\"class\": \"gl-view__content__item-1\"})\n",
    "    plants[i]['img_src'] = p.find(\"img\", {\"class\": \"gl-view__image\"})['src']\n",
    "    plants[i]['botanical_name'] = plant_title_elements.find(\"h4\", {\"class\": \"gl-view__title u-m-b-0\"}).text\n",
    "    plants[i]['common_name'] = plant_title_elements.find(\"h4\", {\"class\": \"gl-view__title text-normal\"}).text\n",
    "    plants[i]['brief_desc'] = p.find(\"div\", {\"class\": \"gl-view__content__item-2\"}).find(\"p\").text\n",
    "    plants[i]['detail_page'] = p.find(\"a\", {\"class\": \"u-faux-block-link__overlay\"})['href']\n",
    "    plants[i]['rhs_id'] = plants[i]['detail_page'].split('/')[2]\n",
    "    plants[i]['query_date'] = today\n",
    "    if p.find(\"i\", {\"title\":\"AGM plant\"}) is None:\n",
    "        plants[i]['agm_plant'] = 0\n",
    "    else:\n",
    "        plants[i]['agm_plant'] = 1\n",
    "    supplier_search_elements = p.find(\"div\", {\"class\": \"gl-view__content__item-3\"}).findChildren('a')\n",
    "    \n",
    "    if len(supplier_search_elements) == 1:\n",
    "        plants[i]['num_suppliers'] = supplier_search_elements[0].find(\"span\").text.split()[0]\n",
    "        plants[i]['supplier_search'] = supplier_search_elements[0]['href']\n",
    "        plants[i]['rhsplants_url'] = ''\n",
    "        plants[i]['rhsplants_price_gbp'] = ''        \n",
    "        \n",
    "    elif len(supplier_search_elements) == 2:\n",
    "        plants[i]['num_suppliers'] = supplier_search_elements[1].find(\"span\").text.split()[0]\n",
    "        plants[i]['supplier_search'] = supplier_search_elements[1]['href']\n",
    "        plants[i]['rhsplants_url'] = supplier_search_elements[0]['href']\n",
    "        plants[i]['rhsplants_price_gbp'] = supplier_search_elements[0].find(\"span\").text.split('£')[1]\n",
    "    else:\n",
    "        plants[i]['num_suppliers'] = '0'\n",
    "        plants[i]['supplier_search'] = ''\n",
    "        plants[i]['rhsplants_url'] = ''\n",
    "        plants[i]['rhsplants_price_gbp'] = ''        "
   ]
  },
  {
   "cell_type": "code",
   "execution_count": 26,
   "id": "shared-meditation",
   "metadata": {},
   "outputs": [],
   "source": [
    "dfplants = pd.DataFrame.from_dict(plants, orient='index', dtype='str')"
   ]
  },
  {
   "cell_type": "code",
   "execution_count": 291,
   "id": "frank-factor",
   "metadata": {},
   "outputs": [],
   "source": [
    "dfplants.to_json(path_or_buf='plants.json',orient='table',index=False)"
   ]
  },
  {
   "cell_type": "code",
   "execution_count": 292,
   "id": "democratic-uniform",
   "metadata": {},
   "outputs": [],
   "source": [
    "# example of how to read json back to pandas\n",
    "# text_read = pd.read_json('plants.json',orient='table')\n",
    "# text_read"
   ]
  },
  {
   "cell_type": "code",
   "execution_count": 293,
   "id": "nuclear-auction",
   "metadata": {},
   "outputs": [],
   "source": [
    "driver.quit()"
   ]
  },
  {
   "cell_type": "code",
   "execution_count": null,
   "id": "daily-championship",
   "metadata": {},
   "outputs": [],
   "source": []
  },
  {
   "cell_type": "code",
   "execution_count": 28,
   "id": "organic-result",
   "metadata": {},
   "outputs": [
    {
     "data": {
      "text/plain": [
       "'/plants/96782/camellia-sasanqua-jean-may-/details-beta'"
      ]
     },
     "execution_count": 28,
     "metadata": {},
     "output_type": "execute_result"
    }
   ],
   "source": [
    "dfplants['detail_page'][0]"
   ]
  },
  {
   "cell_type": "code",
   "execution_count": null,
   "id": "leading-involvement",
   "metadata": {},
   "outputs": [],
   "source": []
  }
 ],
 "metadata": {
  "kernelspec": {
   "display_name": "Python 3",
   "language": "python",
   "name": "python3"
  },
  "language_info": {
   "codemirror_mode": {
    "name": "ipython",
    "version": 3
   },
   "file_extension": ".py",
   "mimetype": "text/x-python",
   "name": "python",
   "nbconvert_exporter": "python",
   "pygments_lexer": "ipython3",
   "version": "3.6.12"
  }
 },
 "nbformat": 4,
 "nbformat_minor": 5
}
